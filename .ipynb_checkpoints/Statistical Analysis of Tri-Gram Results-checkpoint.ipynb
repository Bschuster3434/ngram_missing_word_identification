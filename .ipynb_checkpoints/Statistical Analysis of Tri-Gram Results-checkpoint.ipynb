{
 "metadata": {
  "name": ""
 },
 "nbformat": 3,
 "nbformat_minor": 0,
 "worksheets": [
  {
   "cells": [
    {
     "cell_type": "code",
     "collapsed": false,
     "input": [
      "import pandas as pd\n",
      "import numpy as np\n",
      "from pandas import DataFrame, Series\n",
      "import nltk"
     ],
     "language": "python",
     "metadata": {},
     "outputs": [],
     "prompt_number": 14
    },
    {
     "cell_type": "code",
     "collapsed": false,
     "input": [
      "working_dir = \"C:\\\\Users\\\\Schuster\\\\Documents\\\\\\\\1b_word\""
     ],
     "language": "python",
     "metadata": {},
     "outputs": [],
     "prompt_number": 15
    },
    {
     "cell_type": "code",
     "collapsed": false,
     "input": [
      "tri_gram_file = working_dir + \"\\\\tri_gram_1000000_sents.csv\""
     ],
     "language": "python",
     "metadata": {},
     "outputs": [],
     "prompt_number": 16
    },
    {
     "cell_type": "markdown",
     "metadata": {},
     "source": [
      "This file is intended to be used by any size file that may be tri_gram formatted. The source code to create this is located in \n",
      "'n_gram processor.ipynb'. At this point, it has not been cleaned up for production, as I believe there might be a few more iterations of this type of analysis, either through bi-grams and quad-grams or through different variations of volume."
     ]
    },
    {
     "cell_type": "code",
     "collapsed": false,
     "input": [
      "df = DataFrame.from_csv(tri_gram_file, index_col = None)"
     ],
     "language": "python",
     "metadata": {},
     "outputs": [],
     "prompt_number": 17
    },
    {
     "cell_type": "code",
     "collapsed": false,
     "input": [
      "df.head()"
     ],
     "language": "python",
     "metadata": {},
     "outputs": [
      {
       "html": [
        "<div style=\"max-height:1000px;max-width:1500px;overflow:auto;\">\n",
        "<table border=\"1\" class=\"dataframe\">\n",
        "  <thead>\n",
        "    <tr style=\"text-align: right;\">\n",
        "      <th></th>\n",
        "      <th>0</th>\n",
        "      <th>1</th>\n",
        "      <th>2</th>\n",
        "      <th>3</th>\n",
        "      <th>pos_con</th>\n",
        "    </tr>\n",
        "  </thead>\n",
        "  <tbody>\n",
        "    <tr>\n",
        "      <th>0</th>\n",
        "      <td> 1</td>\n",
        "      <td>  DT</td>\n",
        "      <td> NNP</td>\n",
        "      <td> NNP</td>\n",
        "      <td> DTNNPNNP</td>\n",
        "    </tr>\n",
        "    <tr>\n",
        "      <th>1</th>\n",
        "      <td> 1</td>\n",
        "      <td> NNP</td>\n",
        "      <td> NNP</td>\n",
        "      <td>  IN</td>\n",
        "      <td> NNPNNPIN</td>\n",
        "    </tr>\n",
        "    <tr>\n",
        "      <th>2</th>\n",
        "      <td> 1</td>\n",
        "      <td> NNP</td>\n",
        "      <td>  IN</td>\n",
        "      <td> NNP</td>\n",
        "      <td> NNPINNNP</td>\n",
        "    </tr>\n",
        "    <tr>\n",
        "      <th>3</th>\n",
        "      <td> 1</td>\n",
        "      <td>  IN</td>\n",
        "      <td> NNP</td>\n",
        "      <td> NNP</td>\n",
        "      <td> INNNPNNP</td>\n",
        "    </tr>\n",
        "    <tr>\n",
        "      <th>4</th>\n",
        "      <td> 1</td>\n",
        "      <td> NNP</td>\n",
        "      <td> NNP</td>\n",
        "      <td>  CC</td>\n",
        "      <td> NNPNNPCC</td>\n",
        "    </tr>\n",
        "  </tbody>\n",
        "</table>\n",
        "</div>"
       ],
       "metadata": {},
       "output_type": "pyout",
       "prompt_number": 18,
       "text": [
        "   0    1    2    3   pos_con\n",
        "0  1   DT  NNP  NNP  DTNNPNNP\n",
        "1  1  NNP  NNP   IN  NNPNNPIN\n",
        "2  1  NNP   IN  NNP  NNPINNNP\n",
        "3  1   IN  NNP  NNP  INNNPNNP\n",
        "4  1  NNP  NNP   CC  NNPNNPCC"
       ]
      }
     ],
     "prompt_number": 18
    },
    {
     "cell_type": "code",
     "collapsed": false,
     "input": [
      "trigram_unique_full = df.groupby('pos_con').count()"
     ],
     "language": "python",
     "metadata": {},
     "outputs": [],
     "prompt_number": 19
    },
    {
     "cell_type": "code",
     "collapsed": false,
     "input": [
      "trigram_unique_full = trigram_unique_full['pos_con']"
     ],
     "language": "python",
     "metadata": {},
     "outputs": [],
     "prompt_number": 20
    },
    {
     "cell_type": "code",
     "collapsed": false,
     "input": [
      "sort_trigrams = trigram_unique_full.index.sort()"
     ],
     "language": "python",
     "metadata": {},
     "outputs": [
      {
       "ename": "Exception",
       "evalue": "Cannot sort an Index object",
       "output_type": "pyerr",
       "traceback": [
        "\u001b[1;31m---------------------------------------------------------------------------\u001b[0m\n\u001b[1;31mException\u001b[0m                                 Traceback (most recent call last)",
        "\u001b[1;32m<ipython-input-25-d75eba00ff96>\u001b[0m in \u001b[0;36m<module>\u001b[1;34m()\u001b[0m\n\u001b[1;32m----> 1\u001b[1;33m \u001b[0msort_trigrams\u001b[0m \u001b[1;33m=\u001b[0m \u001b[0mtrigram_unique_full\u001b[0m\u001b[1;33m.\u001b[0m\u001b[0mindex\u001b[0m\u001b[1;33m.\u001b[0m\u001b[0msort\u001b[0m\u001b[1;33m(\u001b[0m\u001b[1;33m)\u001b[0m\u001b[1;33m\u001b[0m\u001b[0m\n\u001b[0m",
        "\u001b[1;32mC:\\Users\\Schuster\\Anaconda\\lib\\site-packages\\pandas\\core\\index.pyc\u001b[0m in \u001b[0;36msort\u001b[1;34m(self, *args, **kwargs)\u001b[0m\n\u001b[0;32m    514\u001b[0m \u001b[1;33m\u001b[0m\u001b[0m\n\u001b[0;32m    515\u001b[0m     \u001b[1;32mdef\u001b[0m \u001b[0msort\u001b[0m\u001b[1;33m(\u001b[0m\u001b[0mself\u001b[0m\u001b[1;33m,\u001b[0m \u001b[1;33m*\u001b[0m\u001b[0margs\u001b[0m\u001b[1;33m,\u001b[0m \u001b[1;33m**\u001b[0m\u001b[0mkwargs\u001b[0m\u001b[1;33m)\u001b[0m\u001b[1;33m:\u001b[0m\u001b[1;33m\u001b[0m\u001b[0m\n\u001b[1;32m--> 516\u001b[1;33m         \u001b[1;32mraise\u001b[0m \u001b[0mException\u001b[0m\u001b[1;33m(\u001b[0m\u001b[1;34m'Cannot sort an Index object'\u001b[0m\u001b[1;33m)\u001b[0m\u001b[1;33m\u001b[0m\u001b[0m\n\u001b[0m\u001b[0;32m    517\u001b[0m \u001b[1;33m\u001b[0m\u001b[0m\n\u001b[0;32m    518\u001b[0m     \u001b[1;32mdef\u001b[0m \u001b[0mshift\u001b[0m\u001b[1;33m(\u001b[0m\u001b[0mself\u001b[0m\u001b[1;33m,\u001b[0m \u001b[0mperiods\u001b[0m\u001b[1;33m=\u001b[0m\u001b[1;36m1\u001b[0m\u001b[1;33m,\u001b[0m \u001b[0mfreq\u001b[0m\u001b[1;33m=\u001b[0m\u001b[0mNone\u001b[0m\u001b[1;33m)\u001b[0m\u001b[1;33m:\u001b[0m\u001b[1;33m\u001b[0m\u001b[0m\n",
        "\u001b[1;31mException\u001b[0m: Cannot sort an Index object"
       ]
      }
     ],
     "prompt_number": 25
    },
    {
     "cell_type": "code",
     "collapsed": false,
     "input": [
      "sort_trigrams[:10]"
     ],
     "language": "python",
     "metadata": {},
     "outputs": [
      {
       "ename": "TypeError",
       "evalue": "'instancemethod' object has no attribute '__getitem__'",
       "output_type": "pyerr",
       "traceback": [
        "\u001b[1;31m---------------------------------------------------------------------------\u001b[0m\n\u001b[1;31mTypeError\u001b[0m                                 Traceback (most recent call last)",
        "\u001b[1;32m<ipython-input-24-43ecd2193a76>\u001b[0m in \u001b[0;36m<module>\u001b[1;34m()\u001b[0m\n\u001b[1;32m----> 1\u001b[1;33m \u001b[0msort_trigrams\u001b[0m\u001b[1;33m[\u001b[0m\u001b[1;33m:\u001b[0m\u001b[1;36m10\u001b[0m\u001b[1;33m]\u001b[0m\u001b[1;33m\u001b[0m\u001b[0m\n\u001b[0m",
        "\u001b[1;31mTypeError\u001b[0m: 'instancemethod' object has no attribute '__getitem__'"
       ]
      }
     ],
     "prompt_number": 24
    },
    {
     "cell_type": "code",
     "collapsed": false,
     "input": [
      "perc_total = sort_trigrams.astype(float) /sum(sort_trigrams)"
     ],
     "language": "python",
     "metadata": {},
     "outputs": [],
     "prompt_number": 35
    },
    {
     "cell_type": "code",
     "collapsed": false,
     "input": [
      "trigram_full_set = DataFrame(sort_trigrams, columns = ['trigram'])\n",
      "trigram_full_set['perc_total'] = perc_total"
     ],
     "language": "python",
     "metadata": {},
     "outputs": [],
     "prompt_number": 36
    },
    {
     "cell_type": "code",
     "collapsed": false,
     "input": [
      "trigram_full_set.head()"
     ],
     "language": "python",
     "metadata": {},
     "outputs": [
      {
       "html": [
        "<div style=\"max-height:1000px;max-width:1500px;overflow:auto;\">\n",
        "<table border=\"1\" class=\"dataframe\">\n",
        "  <thead>\n",
        "    <tr style=\"text-align: right;\">\n",
        "      <th></th>\n",
        "      <th>trigram</th>\n",
        "      <th>perc_total</th>\n",
        "    </tr>\n",
        "    <tr>\n",
        "      <th>pos_con</th>\n",
        "      <th></th>\n",
        "      <th></th>\n",
        "    </tr>\n",
        "  </thead>\n",
        "  <tbody>\n",
        "    <tr>\n",
        "      <th>INDTNN</th>\n",
        "      <td> 432565</td>\n",
        "      <td> 0.019302</td>\n",
        "    </tr>\n",
        "    <tr>\n",
        "      <th>DTNNIN</th>\n",
        "      <td> 320463</td>\n",
        "      <td> 0.014300</td>\n",
        "    </tr>\n",
        "    <tr>\n",
        "      <th>NNINDT</th>\n",
        "      <td> 305105</td>\n",
        "      <td> 0.013614</td>\n",
        "    </tr>\n",
        "    <tr>\n",
        "      <th>DTJJNN</th>\n",
        "      <td> 290419</td>\n",
        "      <td> 0.012959</td>\n",
        "    </tr>\n",
        "    <tr>\n",
        "      <th>NNPNNPNNP</th>\n",
        "      <td> 260652</td>\n",
        "      <td> 0.011631</td>\n",
        "    </tr>\n",
        "  </tbody>\n",
        "</table>\n",
        "</div>"
       ],
       "metadata": {},
       "output_type": "pyout",
       "prompt_number": 37,
       "text": [
        "           trigram  perc_total\n",
        "pos_con                       \n",
        "INDTNN      432565    0.019302\n",
        "DTNNIN      320463    0.014300\n",
        "NNINDT      305105    0.013614\n",
        "DTJJNN      290419    0.012959\n",
        "NNPNNPNNP   260652    0.011631"
       ]
      }
     ],
     "prompt_number": 37
    },
    {
     "cell_type": "code",
     "collapsed": false,
     "input": [
      "n = 0\n",
      "run_per = []\n",
      "for num in perc_total:\n",
      "    n = n + num\n",
      "    run_per.append(n)"
     ],
     "language": "python",
     "metadata": {},
     "outputs": [],
     "prompt_number": 38
    },
    {
     "cell_type": "code",
     "collapsed": false,
     "input": [
      "trigram_full_set['run_per'] = run_per"
     ],
     "language": "python",
     "metadata": {},
     "outputs": [],
     "prompt_number": 40
    },
    {
     "cell_type": "code",
     "collapsed": false,
     "input": [
      "trigram_full_set['rank'] = range(1, 30484)"
     ],
     "language": "python",
     "metadata": {},
     "outputs": [],
     "prompt_number": 44
    },
    {
     "cell_type": "code",
     "collapsed": false,
     "input": [
      "trigram_full_set.head()"
     ],
     "language": "python",
     "metadata": {},
     "outputs": [
      {
       "html": [
        "<div style=\"max-height:1000px;max-width:1500px;overflow:auto;\">\n",
        "<table border=\"1\" class=\"dataframe\">\n",
        "  <thead>\n",
        "    <tr style=\"text-align: right;\">\n",
        "      <th></th>\n",
        "      <th>trigram</th>\n",
        "      <th>perc_total</th>\n",
        "      <th>run_per</th>\n",
        "      <th>rank</th>\n",
        "    </tr>\n",
        "    <tr>\n",
        "      <th>pos_con</th>\n",
        "      <th></th>\n",
        "      <th></th>\n",
        "      <th></th>\n",
        "      <th></th>\n",
        "    </tr>\n",
        "  </thead>\n",
        "  <tbody>\n",
        "    <tr>\n",
        "      <th>INDTNN</th>\n",
        "      <td> 432565</td>\n",
        "      <td> 0.019302</td>\n",
        "      <td> 0.019302</td>\n",
        "      <td> 1</td>\n",
        "    </tr>\n",
        "    <tr>\n",
        "      <th>DTNNIN</th>\n",
        "      <td> 320463</td>\n",
        "      <td> 0.014300</td>\n",
        "      <td> 0.033602</td>\n",
        "      <td> 2</td>\n",
        "    </tr>\n",
        "    <tr>\n",
        "      <th>NNINDT</th>\n",
        "      <td> 305105</td>\n",
        "      <td> 0.013614</td>\n",
        "      <td> 0.047216</td>\n",
        "      <td> 3</td>\n",
        "    </tr>\n",
        "    <tr>\n",
        "      <th>DTJJNN</th>\n",
        "      <td> 290419</td>\n",
        "      <td> 0.012959</td>\n",
        "      <td> 0.060175</td>\n",
        "      <td> 4</td>\n",
        "    </tr>\n",
        "    <tr>\n",
        "      <th>NNPNNPNNP</th>\n",
        "      <td> 260652</td>\n",
        "      <td> 0.011631</td>\n",
        "      <td> 0.071806</td>\n",
        "      <td> 5</td>\n",
        "    </tr>\n",
        "  </tbody>\n",
        "</table>\n",
        "</div>"
       ],
       "metadata": {},
       "output_type": "pyout",
       "prompt_number": 45,
       "text": [
        "           trigram  perc_total   run_per  rank\n",
        "pos_con                                       \n",
        "INDTNN      432565    0.019302  0.019302     1\n",
        "DTNNIN      320463    0.014300  0.033602     2\n",
        "NNINDT      305105    0.013614  0.047216     3\n",
        "DTJJNN      290419    0.012959  0.060175     4\n",
        "NNPNNPNNP   260652    0.011631  0.071806     5"
       ]
      }
     ],
     "prompt_number": 45
    },
    {
     "cell_type": "code",
     "collapsed": false,
     "input": [
      "trigram_full_set[trigram_full_set['rank'] == 100]"
     ],
     "language": "python",
     "metadata": {},
     "outputs": [
      {
       "html": [
        "<div style=\"max-height:1000px;max-width:1500px;overflow:auto;\">\n",
        "<table border=\"1\" class=\"dataframe\">\n",
        "  <thead>\n",
        "    <tr style=\"text-align: right;\">\n",
        "      <th></th>\n",
        "      <th>trigram</th>\n",
        "      <th>perc_total</th>\n",
        "      <th>run_per</th>\n",
        "      <th>rank</th>\n",
        "    </tr>\n",
        "    <tr>\n",
        "      <th>pos_con</th>\n",
        "      <th></th>\n",
        "      <th></th>\n",
        "      <th></th>\n",
        "      <th></th>\n",
        "    </tr>\n",
        "  </thead>\n",
        "  <tbody>\n",
        "    <tr>\n",
        "      <th>NNVBDIN</th>\n",
        "      <td> 32807</td>\n",
        "      <td> 0.001464</td>\n",
        "      <td> 0.331857</td>\n",
        "      <td> 100</td>\n",
        "    </tr>\n",
        "  </tbody>\n",
        "</table>\n",
        "</div>"
       ],
       "metadata": {},
       "output_type": "pyout",
       "prompt_number": 51,
       "text": [
        "         trigram  perc_total   run_per  rank\n",
        "pos_con                                     \n",
        "NNVBDIN    32807    0.001464  0.331857   100"
       ]
      }
     ],
     "prompt_number": 51
    },
    {
     "cell_type": "code",
     "collapsed": false,
     "input": [
      "trigram_full_set.to_csv(working_dir + '\\\\tg_1m_unique_analysis.csv')"
     ],
     "language": "python",
     "metadata": {},
     "outputs": [],
     "prompt_number": 53
    },
    {
     "cell_type": "markdown",
     "metadata": {},
     "source": [
      "The above code has not been cleaned up for production use. However, bits an pieces of this code are being re-used to create several variations of this analysis. The analysis looked at likelyhood of any trigram appearing in a random sentence. The following code will give the ability of a trigram appearing, given that it start with a particular pos."
     ]
    },
    {
     "cell_type": "code",
     "collapsed": false,
     "input": [
      "df['23'] = df['2'] + df['3']"
     ],
     "language": "python",
     "metadata": {},
     "outputs": [],
     "prompt_number": 59
    },
    {
     "cell_type": "code",
     "collapsed": false,
     "input": [
      "df.head()"
     ],
     "language": "python",
     "metadata": {},
     "outputs": [
      {
       "html": [
        "<div style=\"max-height:1000px;max-width:1500px;overflow:auto;\">\n",
        "<table border=\"1\" class=\"dataframe\">\n",
        "  <thead>\n",
        "    <tr style=\"text-align: right;\">\n",
        "      <th></th>\n",
        "      <th>0</th>\n",
        "      <th>1</th>\n",
        "      <th>2</th>\n",
        "      <th>3</th>\n",
        "      <th>pos_con</th>\n",
        "      <th>23</th>\n",
        "    </tr>\n",
        "  </thead>\n",
        "  <tbody>\n",
        "    <tr>\n",
        "      <th>0</th>\n",
        "      <td> 1</td>\n",
        "      <td>  DT</td>\n",
        "      <td> NNP</td>\n",
        "      <td> NNP</td>\n",
        "      <td> DTNNPNNP</td>\n",
        "      <td> NNPNNP</td>\n",
        "    </tr>\n",
        "    <tr>\n",
        "      <th>1</th>\n",
        "      <td> 1</td>\n",
        "      <td> NNP</td>\n",
        "      <td> NNP</td>\n",
        "      <td>  IN</td>\n",
        "      <td> NNPNNPIN</td>\n",
        "      <td>  NNPIN</td>\n",
        "    </tr>\n",
        "    <tr>\n",
        "      <th>2</th>\n",
        "      <td> 1</td>\n",
        "      <td> NNP</td>\n",
        "      <td>  IN</td>\n",
        "      <td> NNP</td>\n",
        "      <td> NNPINNNP</td>\n",
        "      <td>  INNNP</td>\n",
        "    </tr>\n",
        "    <tr>\n",
        "      <th>3</th>\n",
        "      <td> 1</td>\n",
        "      <td>  IN</td>\n",
        "      <td> NNP</td>\n",
        "      <td> NNP</td>\n",
        "      <td> INNNPNNP</td>\n",
        "      <td> NNPNNP</td>\n",
        "    </tr>\n",
        "    <tr>\n",
        "      <th>4</th>\n",
        "      <td> 1</td>\n",
        "      <td> NNP</td>\n",
        "      <td> NNP</td>\n",
        "      <td>  CC</td>\n",
        "      <td> NNPNNPCC</td>\n",
        "      <td>  NNPCC</td>\n",
        "    </tr>\n",
        "  </tbody>\n",
        "</table>\n",
        "</div>"
       ],
       "metadata": {},
       "output_type": "pyout",
       "prompt_number": 60,
       "text": [
        "   0    1    2    3   pos_con      23\n",
        "0  1   DT  NNP  NNP  DTNNPNNP  NNPNNP\n",
        "1  1  NNP  NNP   IN  NNPNNPIN   NNPIN\n",
        "2  1  NNP   IN  NNP  NNPINNNP   INNNP\n",
        "3  1   IN  NNP  NNP  INNNPNNP  NNPNNP\n",
        "4  1  NNP  NNP   CC  NNPNNPCC   NNPCC"
       ]
      }
     ],
     "prompt_number": 60
    },
    {
     "cell_type": "code",
     "collapsed": false,
     "input": [],
     "language": "python",
     "metadata": {},
     "outputs": []
    }
   ],
   "metadata": {}
  }
 ]
}