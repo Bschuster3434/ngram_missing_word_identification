{
 "metadata": {
  "name": ""
 },
 "nbformat": 3,
 "nbformat_minor": 0,
 "worksheets": [
  {
   "cells": [
    {
     "cell_type": "code",
     "collapsed": false,
     "input": [
      "import pandas as pd\n",
      "import numpy as np\n",
      "import nltk\n",
      "from pandas import DataFrame, Series"
     ],
     "language": "python",
     "metadata": {},
     "outputs": [],
     "prompt_number": 12
    },
    {
     "cell_type": "code",
     "collapsed": false,
     "input": [
      "working_dir = r\"C:\\\\Users\\\\Schuster\\\\Documents\\\\1b_word\\\\\"\n",
      "test_sents = working_dir + r\"gen_test_data_start_25205893_len_1000.csv\"\n",
      "analysis = working_dir + r\"stats_1m_word_analysis.csv\""
     ],
     "language": "python",
     "metadata": {},
     "outputs": [],
     "prompt_number": 13
    },
    {
     "cell_type": "code",
     "collapsed": false,
     "input": [
      "test_sent_df = DataFrame.from_csv(test_sents)\n",
      "analysis_df = DataFrame.from_csv(analysis)\n",
      "analysis_df = analysis_df[['Perc Total Unique', 'Perc Total 1+2', 'Perc Total 1']]\n",
      "empty_dict = Series({'Perc Total Unique': np.min(analysis_df['Perc Total Unique']) , 'Perc Total 1+2' : np.min(analysis_df['Perc Total Unique']), 'Perc Total 1' : np.min(analysis_df['Perc Total 1'])}, name='Empty')\n",
      "analysis_df = analysis_df.append(empty_dict)\n",
      "analysis_df = analysis_df.groupby(analysis_df.index).first()"
     ],
     "language": "python",
     "metadata": {},
     "outputs": [],
     "prompt_number": 82
    },
    {
     "cell_type": "code",
     "collapsed": false,
     "input": [
      "def sent_analysis(sent):\n",
      "    text = nltk.word_tokenize(sent)\n",
      "    pos_tags = nltk.pos_tag(text) ##(Word, POS)\n",
      "    words_with_trigrams = create_trigram_codes(pos_tags)\n",
      "    min_positions = grab_min_positions(words_with_trigrams)\n",
      "    return min_positions"
     ],
     "language": "python",
     "metadata": {},
     "outputs": [],
     "prompt_number": 83
    },
    {
     "cell_type": "code",
     "collapsed": false,
     "input": [
      "def create_trigram_codes(pos_tag):\n",
      "    codes = []\n",
      "    for position in range(len(pos_tag) - 3):\n",
      "        phrase = pos_tag[position][0] + \" \" + pos_tag[position + 1][0] + \" \" + pos_tag[position + 2][0] \n",
      "        code = pos_tag[position][1] + pos_tag[position + 1][1] + pos_tag[position + 2][1]\n",
      "        codes.append([phrase, code])\n",
      "    phrase_info = []\n",
      "    n = 0\n",
      "    for phrase, code in codes:\n",
      "        try:\n",
      "            info = analysis_df.ix[code]\n",
      "        except KeyError:\n",
      "            info = analysis_df.ix['Empty']\n",
      "        phrase_info.append(info)\n",
      "    df = DataFrame(phrase_info)\n",
      "    df['position'] = range(1, len(df)+1)\n",
      "    return df"
     ],
     "language": "python",
     "metadata": {},
     "outputs": [],
     "prompt_number": 94
    },
    {
     "cell_type": "code",
     "collapsed": false,
     "input": [
      "def grab_min_positions(trigrams):\n",
      "    min_positions = []\n",
      "    for c_name in trigrams.columns[:-1]:\n",
      "        next_position = trigrams[min(trigrams[c_name]) == trigrams[c_name]].position.values[0]\n",
      "        min_positions.append(next_position)\n",
      "    return min_positions"
     ],
     "language": "python",
     "metadata": {},
     "outputs": [],
     "prompt_number": 95
    },
    {
     "cell_type": "code",
     "collapsed": false,
     "input": [
      "sample = test_sent_df.ix[3].values[0]\n",
      "text = nltk.word_tokenize(sample)\n",
      "pos_tags = nltk.pos_tag(text)\n",
      "codes = create_trigram_codes(pos_tags)"
     ],
     "language": "python",
     "metadata": {},
     "outputs": [],
     "prompt_number": 96
    },
    {
     "cell_type": "code",
     "collapsed": false,
     "input": [
      "right_mentions = []\n",
      "for i in range(len(test_sent_df)):\n",
      "    sentence, missing_value = test_sent_df.ix[i]\n",
      "    best_guess_missing = sent_analysis(sentence)\n",
      "    next_dict = {}\n",
      "    next_dict[\"sentence\"] = sentence\n",
      "    next_dict[\"missing_value\"] = missing_value\n",
      "    next_dict[\"guess_positions\"] = best_guess_missing\n",
      "    correct_guess = []\n",
      "    for i in best_guess_missing:\n",
      "        if i <= int(missing_value) and i > (int(missing_value) - 3):\n",
      "            correct = 1\n",
      "        else:\n",
      "            correct = 0\n",
      "    right_mentions.append(sum(correct_guess))\n",
      "    "
     ],
     "language": "python",
     "metadata": {},
     "outputs": [],
     "prompt_number": 107
    },
    {
     "cell_type": "code",
     "collapsed": false,
     "input": [
      "result_df = DataFrame(right_mentions)"
     ],
     "language": "python",
     "metadata": {},
     "outputs": [],
     "prompt_number": 108
    },
    {
     "cell_type": "code",
     "collapsed": false,
     "input": [
      "result_df.head()"
     ],
     "language": "python",
     "metadata": {},
     "outputs": [
      {
       "html": [
        "<div style=\"max-height:1000px;max-width:1500px;overflow:auto;\">\n",
        "<table border=\"1\" class=\"dataframe\">\n",
        "  <thead>\n",
        "    <tr style=\"text-align: right;\">\n",
        "      <th></th>\n",
        "      <th>0</th>\n",
        "    </tr>\n",
        "  </thead>\n",
        "  <tbody>\n",
        "    <tr>\n",
        "      <th>0</th>\n",
        "      <td> 0</td>\n",
        "    </tr>\n",
        "    <tr>\n",
        "      <th>1</th>\n",
        "      <td> 0</td>\n",
        "    </tr>\n",
        "    <tr>\n",
        "      <th>2</th>\n",
        "      <td> 0</td>\n",
        "    </tr>\n",
        "    <tr>\n",
        "      <th>3</th>\n",
        "      <td> 0</td>\n",
        "    </tr>\n",
        "    <tr>\n",
        "      <th>4</th>\n",
        "      <td> 0</td>\n",
        "    </tr>\n",
        "  </tbody>\n",
        "</table>\n",
        "</div>"
       ],
       "metadata": {},
       "output_type": "pyout",
       "prompt_number": 109,
       "text": [
        "   0\n",
        "0  0\n",
        "1  0\n",
        "2  0\n",
        "3  0\n",
        "4  0"
       ]
      }
     ],
     "prompt_number": 109
    },
    {
     "cell_type": "code",
     "collapsed": false,
     "input": [],
     "language": "python",
     "metadata": {},
     "outputs": []
    }
   ],
   "metadata": {}
  }
 ]
}