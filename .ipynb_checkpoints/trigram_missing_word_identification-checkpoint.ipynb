{
 "metadata": {
  "name": ""
 },
 "nbformat": 3,
 "nbformat_minor": 0,
 "worksheets": [
  {
   "cells": [
    {
     "cell_type": "code",
     "collapsed": false,
     "input": [
      "import pandas as pd\n",
      "import numpy as np\n",
      "import nltk\n",
      "from pandas import DataFrame, Series"
     ],
     "language": "python",
     "metadata": {},
     "outputs": [],
     "prompt_number": 1
    },
    {
     "cell_type": "code",
     "collapsed": false,
     "input": [
      "working_dir = r\"C:\\\\Users\\\\Schuster\\\\Documents\\\\1b_word\\\\\"\n",
      "test_sents = working_dir + r\"gen_test_data_start_25205893_len_1000.csv\"\n",
      "analysis = working_dir + r\"stats_1m_word_analysis.csv\""
     ],
     "language": "python",
     "metadata": {},
     "outputs": [],
     "prompt_number": 2
    },
    {
     "cell_type": "code",
     "collapsed": false,
     "input": [
      "test_sent_df = DataFrame.from_csv(test_sents)\n",
      "analysis_df = DataFrame.from_csv(analysis)\n",
      "analysis_df = analysis_df[['Perc Total Unique', 'Perc Total 1+2', 'Perc Total 1']]\n",
      "empty_dict = Series({'Perc Total Unique': np.min(analysis_df['Perc Total Unique']) , 'Perc Total 1+2' : np.min(analysis_df['Perc Total Unique']), 'Perc Total 1' : np.min(analysis_df['Perc Total 1'])}, name='Empty')\n",
      "analysis_df = analysis_df.append(empty_dict)\n",
      "analysis_df = analysis_df.groupby(analysis_df.index).first()"
     ],
     "language": "python",
     "metadata": {},
     "outputs": [],
     "prompt_number": 3
    },
    {
     "cell_type": "code",
     "collapsed": false,
     "input": [
      "analysis_df['123 v 12'] = analysis_df['Perc Total Unique'] * analysis_df['Perc Total 1+2']\n",
      "analysis_df['123 v 1'] = analysis_df['Perc Total Unique'] * analysis_df['Perc Total 1']\n",
      "analysis_df['12 v 1'] = analysis_df['Perc Total 1+2'] * analysis_df['Perc Total 1']\n",
      "analysis_df.head()"
     ],
     "language": "python",
     "metadata": {},
     "outputs": [
      {
       "html": [
        "<div style=\"max-height:1000px;max-width:1500px;overflow:auto;\">\n",
        "<table border=\"1\" class=\"dataframe\">\n",
        "  <thead>\n",
        "    <tr style=\"text-align: right;\">\n",
        "      <th></th>\n",
        "      <th>Perc Total Unique</th>\n",
        "      <th>Perc Total 1+2</th>\n",
        "      <th>Perc Total 1</th>\n",
        "      <th>123 v 12</th>\n",
        "      <th>123 v 1</th>\n",
        "      <th>12 v 1</th>\n",
        "    </tr>\n",
        "  </thead>\n",
        "  <tbody>\n",
        "    <tr>\n",
        "      <th>##NNS</th>\n",
        "      <td> 4.437525e-08</td>\n",
        "      <td> 1.000000</td>\n",
        "      <td> 0.002577</td>\n",
        "      <td> 4.437525e-08</td>\n",
        "      <td> 1.143692e-10</td>\n",
        "      <td> 0.002577</td>\n",
        "    </tr>\n",
        "    <tr>\n",
        "      <th>#$NN</th>\n",
        "      <td> 4.437525e-08</td>\n",
        "      <td> 1.000000</td>\n",
        "      <td> 0.002577</td>\n",
        "      <td> 4.437525e-08</td>\n",
        "      <td> 1.143692e-10</td>\n",
        "      <td> 0.002577</td>\n",
        "    </tr>\n",
        "    <tr>\n",
        "      <th>#,CC</th>\n",
        "      <td> 4.437525e-08</td>\n",
        "      <td> 1.000000</td>\n",
        "      <td> 0.002577</td>\n",
        "      <td> 4.437525e-08</td>\n",
        "      <td> 1.143692e-10</td>\n",
        "      <td> 0.002577</td>\n",
        "    </tr>\n",
        "    <tr>\n",
        "      <th>#-NONE-CC</th>\n",
        "      <td> 4.437525e-08</td>\n",
        "      <td> 1.000000</td>\n",
        "      <td> 0.002577</td>\n",
        "      <td> 4.437525e-08</td>\n",
        "      <td> 1.143692e-10</td>\n",
        "      <td> 0.002577</td>\n",
        "    </tr>\n",
        "    <tr>\n",
        "      <th>#..</th>\n",
        "      <td> 4.437525e-08</td>\n",
        "      <td> 0.166667</td>\n",
        "      <td> 0.002577</td>\n",
        "      <td> 7.395875e-09</td>\n",
        "      <td> 1.143692e-10</td>\n",
        "      <td> 0.000430</td>\n",
        "    </tr>\n",
        "  </tbody>\n",
        "</table>\n",
        "</div>"
       ],
       "metadata": {},
       "output_type": "pyout",
       "prompt_number": 10,
       "text": [
        "           Perc Total Unique  Perc Total 1+2  Perc Total 1      123 v 12  \\\n",
        "##NNS           4.437525e-08        1.000000      0.002577  4.437525e-08   \n",
        "#$NN            4.437525e-08        1.000000      0.002577  4.437525e-08   \n",
        "#,CC            4.437525e-08        1.000000      0.002577  4.437525e-08   \n",
        "#-NONE-CC       4.437525e-08        1.000000      0.002577  4.437525e-08   \n",
        "#..             4.437525e-08        0.166667      0.002577  7.395875e-09   \n",
        "\n",
        "                123 v 1    12 v 1  \n",
        "##NNS      1.143692e-10  0.002577  \n",
        "#$NN       1.143692e-10  0.002577  \n",
        "#,CC       1.143692e-10  0.002577  \n",
        "#-NONE-CC  1.143692e-10  0.002577  \n",
        "#..        1.143692e-10  0.000430  "
       ]
      }
     ],
     "prompt_number": 10
    },
    {
     "cell_type": "code",
     "collapsed": false,
     "input": [
      "def sent_analysis(sent):\n",
      "    text = nltk.word_tokenize(sent)\n",
      "    pos_tags = nltk.pos_tag(text) ##(Word, POS)\n",
      "    words_with_trigrams = create_trigram_codes(pos_tags)\n",
      "    min_positions = grab_min_positions(words_with_trigrams)\n",
      "    return min_positions"
     ],
     "language": "python",
     "metadata": {},
     "outputs": [],
     "prompt_number": 11
    },
    {
     "cell_type": "code",
     "collapsed": false,
     "input": [
      "def create_trigram_codes(pos_tag):\n",
      "    codes = []\n",
      "    for position in range(len(pos_tag) - 3):\n",
      "        phrase = pos_tag[position][0] + \" \" + pos_tag[position + 1][0] + \" \" + pos_tag[position + 2][0] \n",
      "        code = pos_tag[position][1] + pos_tag[position + 1][1] + pos_tag[position + 2][1]\n",
      "        codes.append([phrase, code])\n",
      "    phrase_info = []\n",
      "    n = 0\n",
      "    for phrase, code in codes:\n",
      "        try:\n",
      "            info = analysis_df.ix[code]\n",
      "        except KeyError:\n",
      "            info = analysis_df.ix['Empty']\n",
      "        phrase_info.append(info)\n",
      "    df = DataFrame(phrase_info)\n",
      "    df['position'] = range(1, len(df)+1)\n",
      "    return df"
     ],
     "language": "python",
     "metadata": {},
     "outputs": [],
     "prompt_number": 12
    },
    {
     "cell_type": "code",
     "collapsed": false,
     "input": [
      "def grab_min_positions(trigrams):\n",
      "    min_positions = []\n",
      "    for c_name in trigrams.columns[:-1]:\n",
      "        next_position = trigrams[min(trigrams[c_name]) == trigrams[c_name]].position.values[0]\n",
      "        min_positions.append(next_position)\n",
      "    return min_positions"
     ],
     "language": "python",
     "metadata": {},
     "outputs": [],
     "prompt_number": 13
    },
    {
     "cell_type": "code",
     "collapsed": false,
     "input": [
      "sample = test_sent_df.ix[3].values[0]\n",
      "text = nltk.word_tokenize(sample)\n",
      "pos_tags = nltk.pos_tag(text)\n",
      "codes = create_trigram_codes(pos_tags)"
     ],
     "language": "python",
     "metadata": {},
     "outputs": [],
     "prompt_number": 14
    },
    {
     "cell_type": "code",
     "collapsed": false,
     "input": [
      "right_mentions = []\n",
      "for i in range(len(test_sent_df)):\n",
      "    sentence, missing_value = test_sent_df.ix[i]\n",
      "    best_guess_missing = sent_analysis(sentence)\n",
      "    next_dict = {}\n",
      "    next_dict[\"sentence\"] = sentence\n",
      "    next_dict[\"missing_value\"] = missing_value\n",
      "    next_dict[\"guess_positions\"] = best_guess_missing\n",
      "    correct_guess = []\n",
      "    for i in best_guess_missing:\n",
      "        if i <= int(missing_value) and i > (int(missing_value) - 3):\n",
      "            correct = 1\n",
      "        else:\n",
      "            correct = 0\n",
      "        correct_guess.append(correct)\n",
      "    next_dict[\"correct_guesses\"] = sum(correct_guess)\n",
      "    right_mentions.append(next_dict)\n",
      "    "
     ],
     "language": "python",
     "metadata": {},
     "outputs": [],
     "prompt_number": 15
    },
    {
     "cell_type": "code",
     "collapsed": false,
     "input": [
      "result_df = DataFrame(right_mentions)"
     ],
     "language": "python",
     "metadata": {},
     "outputs": [],
     "prompt_number": 16
    },
    {
     "cell_type": "code",
     "collapsed": false,
     "input": [
      "result_df.correct_guesses.groupby(result_df.correct_guesses).count()"
     ],
     "language": "python",
     "metadata": {},
     "outputs": [
      {
       "metadata": {},
       "output_type": "pyout",
       "prompt_number": 17,
       "text": [
        "correct_guesses\n",
        "0                  580\n",
        "1                   53\n",
        "2                   37\n",
        "3                   62\n",
        "4                   31\n",
        "5                   49\n",
        "6                  188\n",
        "dtype: int64"
       ]
      }
     ],
     "prompt_number": 17
    },
    {
     "cell_type": "code",
     "collapsed": false,
     "input": [],
     "language": "python",
     "metadata": {},
     "outputs": []
    }
   ],
   "metadata": {}
  }
 ]
}