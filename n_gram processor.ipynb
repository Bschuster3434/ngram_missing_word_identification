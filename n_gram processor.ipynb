{
 "metadata": {
  "name": ""
 },
 "nbformat": 3,
 "nbformat_minor": 0,
 "worksheets": [
  {
   "cells": [
    {
     "cell_type": "code",
     "collapsed": false,
     "input": [
      "import nltk\n",
      "import pandas as pd\n",
      "import numpy as np\n",
      "from pandas import DataFrame, Series\n",
      "import time"
     ],
     "language": "python",
     "metadata": {},
     "outputs": [],
     "prompt_number": 57
    },
    {
     "cell_type": "code",
     "collapsed": false,
     "input": [
      "l_f = 'first_1000_lines.txt'"
     ],
     "language": "python",
     "metadata": {},
     "outputs": [],
     "prompt_number": 2
    },
    {
     "cell_type": "code",
     "collapsed": false,
     "input": [
      "lines = []\n",
      "with open(l_f, 'r') as f:\n",
      "    for line in f:\n",
      "        lines.append(line)"
     ],
     "language": "python",
     "metadata": {},
     "outputs": [],
     "prompt_number": 4
    },
    {
     "cell_type": "code",
     "collapsed": false,
     "input": [
      "lines[0]"
     ],
     "language": "python",
     "metadata": {},
     "outputs": [
      {
       "metadata": {},
       "output_type": "pyout",
       "prompt_number": 7,
       "text": [
        "'The U.S. Centers for Disease Control and Prevention initially advised school systems to close if outbreaks occurred , then reversed itself , saying the apparent mildness of the virus meant most schools and day care centers should stay open , even if they had confirmed cases of swine flu .\\n'"
       ]
      }
     ],
     "prompt_number": 7
    },
    {
     "cell_type": "code",
     "collapsed": false,
     "input": [
      "text = nltk.word_tokenize(lines[0])\n",
      "tags = nltk.pos_tag(text)"
     ],
     "language": "python",
     "metadata": {},
     "outputs": [],
     "prompt_number": 10
    },
    {
     "cell_type": "code",
     "collapsed": false,
     "input": [
      "print tags"
     ],
     "language": "python",
     "metadata": {},
     "outputs": [
      {
       "output_type": "stream",
       "stream": "stdout",
       "text": [
        "[('The', 'DT'), ('U.S.', 'NNP'), ('Centers', 'NNP'), ('for', 'IN'), ('Disease', 'NNP'), ('Control', 'NNP'), ('and', 'CC'), ('Prevention', 'NNP'), ('initially', 'RB'), ('advised', 'VBD'), ('school', 'NN'), ('systems', 'NNS'), ('to', 'TO'), ('close', 'VB'), ('if', 'IN'), ('outbreaks', 'NNS'), ('occurred', 'VBN'), (',', ','), ('then', 'RB'), ('reversed', 'VBD'), ('itself', 'PRP'), (',', ','), ('saying', 'VBG'), ('the', 'DT'), ('apparent', 'JJ'), ('mildness', 'NN'), ('of', 'IN'), ('the', 'DT'), ('virus', 'NN'), ('meant', 'VBD'), ('most', 'JJS'), ('schools', 'NNS'), ('and', 'CC'), ('day', 'NN'), ('care', 'NN'), ('centers', 'NNS'), ('should', 'MD'), ('stay', 'VB'), ('open', 'JJ'), (',', ','), ('even', 'RB'), ('if', 'IN'), ('they', 'PRP'), ('had', 'VBD'), ('confirmed', 'VBN'), ('cases', 'NNS'), ('of', 'IN'), ('swine', 'NN'), ('flu', 'NN'), ('.', '.')]\n"
       ]
      }
     ],
     "prompt_number": 15
    },
    {
     "cell_type": "code",
     "collapsed": false,
     "input": [
      "def store_all_tags(lines):\n",
      "    wt_store = []\n",
      "    count = 1\n",
      "    for sent in lines:\n",
      "        text = nltk.word_tokenize(sent)\n",
      "        tags = nltk.pos_tag(text)\n",
      "        for part in range(0, len(tags) - 3):\n",
      "            tag_tags = [tags[part][1], tags[part+1][1], tags[part+2][1]]\n",
      "            wt_store.append([count, tags[part][1], tags[part+1][1], tags[part+2][1]])\n",
      "        count = count + 1   \n",
      "    return wt_store"
     ],
     "language": "python",
     "metadata": {},
     "outputs": [],
     "prompt_number": 41
    },
    {
     "cell_type": "code",
     "collapsed": false,
     "input": [
      "wt = store_all_tags(lines)"
     ],
     "language": "python",
     "metadata": {},
     "outputs": [],
     "prompt_number": 42
    },
    {
     "cell_type": "code",
     "collapsed": false,
     "input": [
      "w_df = DataFrame(wt)"
     ],
     "language": "python",
     "metadata": {},
     "outputs": [],
     "prompt_number": 45
    },
    {
     "cell_type": "code",
     "collapsed": false,
     "input": [
      "w_df.index = w_df[0]\n",
      "w_df['pos_con'] = w_df[1] + w_df[2] + w_df[3]\n",
      "w_df = w_df[[1, 2, 3, 'pos_con']]"
     ],
     "language": "python",
     "metadata": {},
     "outputs": [],
     "prompt_number": 47
    },
    {
     "cell_type": "code",
     "collapsed": false,
     "input": [
      "w_df.to_csv('tri_gram_1000_sentences.csv')"
     ],
     "language": "python",
     "metadata": {},
     "outputs": [],
     "prompt_number": 50
    },
    {
     "cell_type": "code",
     "collapsed": false,
     "input": [
      "first_mil = []\n",
      "with open('train_v2.txt', 'r') as f:\n",
      "    for i in range(1000000):\n",
      "        line = f.readline()\n",
      "        first_mil.append(line)"
     ],
     "language": "python",
     "metadata": {},
     "outputs": [],
     "prompt_number": 53
    },
    {
     "cell_type": "code",
     "collapsed": false,
     "input": [
      "start_time = time.time()\n",
      "tag_store = store_all_tags(first_mil)\n",
      "df_ds = DataFrame(tag_store)\n",
      "df_ds.index = df_ds[0]\n",
      "df_ds['pos_con'] = df_ds[1] + df_ds[2] + df_ds[3]\n",
      "df_ds = df_ds[[1, 2, 3, 'pos_con']]\n",
      "df_ds.to_csv('tri_gram_1000000_sents.csv')\n",
      "time_ran = time.time() - start_time\n",
      "print 'Time of this program in seconds: ' + str(time_ran)"
     ],
     "language": "python",
     "metadata": {},
     "outputs": []
    },
    {
     "cell_type": "code",
     "collapsed": false,
     "input": [
      "time_ran/60/60"
     ],
     "language": "python",
     "metadata": {},
     "outputs": [
      {
       "metadata": {},
       "output_type": "pyout",
       "prompt_number": 63,
       "text": [
        "6.475048055582576"
       ]
      }
     ],
     "prompt_number": 63
    },
    {
     "cell_type": "code",
     "collapsed": false,
     "input": [],
     "language": "python",
     "metadata": {},
     "outputs": []
    }
   ],
   "metadata": {}
  }
 ]
}