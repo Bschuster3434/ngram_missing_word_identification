{
 "metadata": {
  "name": ""
 },
 "nbformat": 3,
 "nbformat_minor": 0,
 "worksheets": [
  {
   "cells": [
    {
     "cell_type": "code",
     "collapsed": false,
     "input": [
      "import pandas as pd\n",
      "import numpy as np\n",
      "from pandas import DataFrame, Series\n",
      "import nltk"
     ],
     "language": "python",
     "metadata": {},
     "outputs": [],
     "prompt_number": 1
    },
    {
     "cell_type": "markdown",
     "metadata": {},
     "source": [
      "The Purpose of this program is to create my own testing data from the corpus. I have trained data on the first million lines of code, thus will pick lines/data from after that point. Per the rules:\n",
      "\n",
      "\"We have removed one word from each sentence in the test set. The location of the removed word was chosen uniformly randomly and is never the first or last word of the sentence (in this dataset, the last word is always a period).\"\n",
      "\n",
      "This will be the same methodology to create this data."
     ]
    },
    {
     "cell_type": "code",
     "collapsed": false,
     "input": [
      "working_dir = \"C:\\\\Users\\\\Schuster\\\\Documents\\\\\\\\1b_word\""
     ],
     "language": "python",
     "metadata": {},
     "outputs": [],
     "prompt_number": 3
    },
    {
     "cell_type": "code",
     "collapsed": false,
     "input": [
      "training_set = working_dir + \"\\\\train_v2.txt\"\n",
      "total_lines = 0\n",
      "with open(training_set, 'r') as fil:\n",
      "    for line in fil:\n",
      "        total_lines += 1\n",
      "print \"Total Lines in Train is \" + str(total_lines) + \".\""
     ],
     "language": "python",
     "metadata": {},
     "outputs": [
      {
       "output_type": "stream",
       "stream": "stdout",
       "text": [
        "Total Lines in Train is 30301028.\n"
       ]
      }
     ],
     "prompt_number": 4
    },
    {
     "cell_type": "code",
     "collapsed": false,
     "input": [
      "###Variables for this program###\n",
      "training_set_end = 1000000\n",
      "total_lines_sampled = 1000\n",
      "start_loc = np.random.randint(training_set_end+1, total_lines - total_lines_sampled)"
     ],
     "language": "python",
     "metadata": {},
     "outputs": [],
     "prompt_number": 5
    },
    {
     "cell_type": "code",
     "collapsed": false,
     "input": [
      "test_data = []\n",
      "current_line = 0\n",
      "with open(training_set, 'r') as fil:\n",
      "    for line in fil:\n",
      "        current_line += 1\n",
      "        if current_line >= start_loc:\n",
      "            test_data.append(line)\n",
      "        if len(test_data) >= total_lines_sampled:\n",
      "            break"
     ],
     "language": "python",
     "metadata": {},
     "outputs": [],
     "prompt_number": 7
    },
    {
     "cell_type": "code",
     "collapsed": false,
     "input": [
      "def remove_rand_sentence(sent):\n",
      "    \"\"\"\n",
      "    Per the Kaggle competition, remove one random word that is not the\n",
      "    first or the last word(in this case, element of the list)\n",
      "    \"\"\"\n",
      "    word_list = sent.split()\n",
      "    list_len = len(word_list)\n",
      "    ##Below variable looks for the int value of the word to be removed\n",
      "    ##Starts at the ordinal 1 (skipping 0, the first word)\n",
      "    ##Ends at the inclusive end of the sentence(len minus one)\n",
      "    removed_word = np.random.randint(1, list_len)\n",
      "    new_wl = word_list[:removed_word] + word_list[removed_word + 1:]\n",
      "    if removed_word == (list_len - 1):\n",
      "        ##Only activates if the final word of the sentence is removed.\n",
      "        ##Used to add back the punctuation at the end of the sentence\n",
      "        last_char = word_list[list_len - 1][-1:]\n",
      "        new_wl.append(last_char)\n",
      "    return [\" \".join(new_wl), removed_word + 1]"
     ],
     "language": "python",
     "metadata": {},
     "outputs": [],
     "prompt_number": 86
    },
    {
     "cell_type": "code",
     "collapsed": false,
     "input": [
      "altered_sents = []\n",
      "for line in test_data:\n",
      "    altered_sents.append(remove_rand_sentence(line))"
     ],
     "language": "python",
     "metadata": {},
     "outputs": [],
     "prompt_number": 87
    },
    {
     "cell_type": "code",
     "collapsed": false,
     "input": [
      "num = np.random.randint(0, total_lines_sampled)\n",
      "print test_data[num]\n",
      "print altered_sents[num]"
     ],
     "language": "python",
     "metadata": {},
     "outputs": [
      {
       "output_type": "stream",
       "stream": "stdout",
       "text": [
        "Roosevelt believed passionately in regulating industry and curbing the excesses of the great corporations .\n",
        "\n",
        "['Roosevelt believed passionately in industry and curbing the excesses of the great corporations .', 5]\n"
       ]
      }
     ],
     "prompt_number": 90
    },
    {
     "cell_type": "code",
     "collapsed": false,
     "input": [
      "df = DataFrame(altered_sents)"
     ],
     "language": "python",
     "metadata": {},
     "outputs": [],
     "prompt_number": 91
    },
    {
     "cell_type": "code",
     "collapsed": false,
     "input": [
      "df.columns = ['alt_sent', 'missing_word_at']\n",
      "df.head()"
     ],
     "language": "python",
     "metadata": {},
     "outputs": [
      {
       "html": [
        "<div style=\"max-height:1000px;max-width:1500px;overflow:auto;\">\n",
        "<table border=\"1\" class=\"dataframe\">\n",
        "  <thead>\n",
        "    <tr style=\"text-align: right;\">\n",
        "      <th></th>\n",
        "      <th>alt_sent</th>\n",
        "      <th>missing_word_at</th>\n",
        "    </tr>\n",
        "  </thead>\n",
        "  <tbody>\n",
        "    <tr>\n",
        "      <th>0</th>\n",
        "      <td> The stopped short of storming the heavily prot...</td>\n",
        "      <td>  2</td>\n",
        "    </tr>\n",
        "    <tr>\n",
        "      <th>1</th>\n",
        "      <td> Hamas officials openly stated that is their go...</td>\n",
        "      <td>  3</td>\n",
        "    </tr>\n",
        "    <tr>\n",
        "      <th>2</th>\n",
        "      <td>  I hate being lied to as a citizen this country !</td>\n",
        "      <td>  9</td>\n",
        "    </tr>\n",
        "    <tr>\n",
        "      <th>3</th>\n",
        "      <td> The added space should let you clean out your ...</td>\n",
        "      <td> 10</td>\n",
        "    </tr>\n",
        "    <tr>\n",
        "      <th>4</th>\n",
        "      <td> The pessimistic side suggests China has poured...</td>\n",
        "      <td> 19</td>\n",
        "    </tr>\n",
        "  </tbody>\n",
        "</table>\n",
        "</div>"
       ],
       "metadata": {},
       "output_type": "pyout",
       "prompt_number": 92,
       "text": [
        "                                            alt_sent  missing_word_at\n",
        "0  The stopped short of storming the heavily prot...                2\n",
        "1  Hamas officials openly stated that is their go...                3\n",
        "2   I hate being lied to as a citizen this country !                9\n",
        "3  The added space should let you clean out your ...               10\n",
        "4  The pessimistic side suggests China has poured...               19"
       ]
      }
     ],
     "prompt_number": 92
    },
    {
     "cell_type": "code",
     "collapsed": false,
     "input": [
      "output_file = working_dir + \"\\\\gen_test_data_start_\" + str(start_loc) + \"_len_\" + str(total_lines_sampled) + \".csv\"\n",
      "df.to_csv(output_file)"
     ],
     "language": "python",
     "metadata": {},
     "outputs": [],
     "prompt_number": 94
    },
    {
     "cell_type": "code",
     "collapsed": false,
     "input": [],
     "language": "python",
     "metadata": {},
     "outputs": []
    }
   ],
   "metadata": {}
  }
 ]
}