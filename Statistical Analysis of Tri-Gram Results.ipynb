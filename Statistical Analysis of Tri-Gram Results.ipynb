{
 "metadata": {
  "name": ""
 },
 "nbformat": 3,
 "nbformat_minor": 0,
 "worksheets": [
  {
   "cells": [
    {
     "cell_type": "code",
     "collapsed": false,
     "input": [
      "import pandas as pd\n",
      "import numpy as np\n",
      "from pandas import DataFrame, Series\n",
      "import nltk"
     ],
     "language": "python",
     "metadata": {},
     "outputs": [],
     "prompt_number": 1
    },
    {
     "cell_type": "code",
     "collapsed": false,
     "input": [
      "working_dir = \"C:\\\\Users\\\\Schuster\\\\Documents\\\\\\\\1b_word\""
     ],
     "language": "python",
     "metadata": {},
     "outputs": [],
     "prompt_number": 2
    },
    {
     "cell_type": "code",
     "collapsed": false,
     "input": [
      "tri_gram_file = working_dir + \"\\\\tri_gram_1000000_sents.csv\""
     ],
     "language": "python",
     "metadata": {},
     "outputs": [],
     "prompt_number": 3
    },
    {
     "cell_type": "markdown",
     "metadata": {},
     "source": [
      "This file is intended to be used by any size file that may be tri_gram formatted. The source code to create this is located in \n",
      "'n_gram processor.ipynb'. At this point, it has not been cleaned up for production, as I believe there might be a few more iterations of this type of analysis, either through bi-grams and quad-grams or through different variations of volume."
     ]
    },
    {
     "cell_type": "code",
     "collapsed": false,
     "input": [
      "df = DataFrame.from_csv(tri_gram_file, index_col = None)"
     ],
     "language": "python",
     "metadata": {},
     "outputs": [],
     "prompt_number": 4
    },
    {
     "cell_type": "code",
     "collapsed": false,
     "input": [
      "df.head()"
     ],
     "language": "python",
     "metadata": {},
     "outputs": [
      {
       "html": [
        "<div style=\"max-height:1000px;max-width:1500px;overflow:auto;\">\n",
        "<table border=\"1\" class=\"dataframe\">\n",
        "  <thead>\n",
        "    <tr style=\"text-align: right;\">\n",
        "      <th></th>\n",
        "      <th>0</th>\n",
        "      <th>1</th>\n",
        "      <th>2</th>\n",
        "      <th>3</th>\n",
        "      <th>pos_con</th>\n",
        "    </tr>\n",
        "  </thead>\n",
        "  <tbody>\n",
        "    <tr>\n",
        "      <th>0</th>\n",
        "      <td> 1</td>\n",
        "      <td>  DT</td>\n",
        "      <td> NNP</td>\n",
        "      <td> NNP</td>\n",
        "      <td> DTNNPNNP</td>\n",
        "    </tr>\n",
        "    <tr>\n",
        "      <th>1</th>\n",
        "      <td> 1</td>\n",
        "      <td> NNP</td>\n",
        "      <td> NNP</td>\n",
        "      <td>  IN</td>\n",
        "      <td> NNPNNPIN</td>\n",
        "    </tr>\n",
        "    <tr>\n",
        "      <th>2</th>\n",
        "      <td> 1</td>\n",
        "      <td> NNP</td>\n",
        "      <td>  IN</td>\n",
        "      <td> NNP</td>\n",
        "      <td> NNPINNNP</td>\n",
        "    </tr>\n",
        "    <tr>\n",
        "      <th>3</th>\n",
        "      <td> 1</td>\n",
        "      <td>  IN</td>\n",
        "      <td> NNP</td>\n",
        "      <td> NNP</td>\n",
        "      <td> INNNPNNP</td>\n",
        "    </tr>\n",
        "    <tr>\n",
        "      <th>4</th>\n",
        "      <td> 1</td>\n",
        "      <td> NNP</td>\n",
        "      <td> NNP</td>\n",
        "      <td>  CC</td>\n",
        "      <td> NNPNNPCC</td>\n",
        "    </tr>\n",
        "  </tbody>\n",
        "</table>\n",
        "</div>"
       ],
       "metadata": {},
       "output_type": "pyout",
       "prompt_number": 5,
       "text": [
        "   0    1    2    3   pos_con\n",
        "0  1   DT  NNP  NNP  DTNNPNNP\n",
        "1  1  NNP  NNP   IN  NNPNNPIN\n",
        "2  1  NNP   IN  NNP  NNPINNNP\n",
        "3  1   IN  NNP  NNP  INNNPNNP\n",
        "4  1  NNP  NNP   CC  NNPNNPCC"
       ]
      }
     ],
     "prompt_number": 5
    },
    {
     "cell_type": "code",
     "collapsed": false,
     "input": [
      "trigram_unique_count = df.groupby('pos_con').count()"
     ],
     "language": "python",
     "metadata": {},
     "outputs": [],
     "prompt_number": 6
    },
    {
     "cell_type": "code",
     "collapsed": false,
     "input": [
      "trigram_unique_count.head()"
     ],
     "language": "python",
     "metadata": {},
     "outputs": [
      {
       "html": [
        "<div style=\"max-height:1000px;max-width:1500px;overflow:auto;\">\n",
        "<table border=\"1\" class=\"dataframe\">\n",
        "  <thead>\n",
        "    <tr style=\"text-align: right;\">\n",
        "      <th></th>\n",
        "      <th>0</th>\n",
        "      <th>1</th>\n",
        "      <th>2</th>\n",
        "      <th>3</th>\n",
        "      <th>pos_con</th>\n",
        "    </tr>\n",
        "    <tr>\n",
        "      <th>pos_con</th>\n",
        "      <th></th>\n",
        "      <th></th>\n",
        "      <th></th>\n",
        "      <th></th>\n",
        "      <th></th>\n",
        "    </tr>\n",
        "  </thead>\n",
        "  <tbody>\n",
        "    <tr>\n",
        "      <th>##NNS</th>\n",
        "      <td> 1</td>\n",
        "      <td> 1</td>\n",
        "      <td> 1</td>\n",
        "      <td> 1</td>\n",
        "      <td> 1</td>\n",
        "    </tr>\n",
        "    <tr>\n",
        "      <th>#$NN</th>\n",
        "      <td> 1</td>\n",
        "      <td> 1</td>\n",
        "      <td> 1</td>\n",
        "      <td> 1</td>\n",
        "      <td> 1</td>\n",
        "    </tr>\n",
        "    <tr>\n",
        "      <th>#,CC</th>\n",
        "      <td> 1</td>\n",
        "      <td> 1</td>\n",
        "      <td> 1</td>\n",
        "      <td> 1</td>\n",
        "      <td> 1</td>\n",
        "    </tr>\n",
        "    <tr>\n",
        "      <th>#-NONE-CC</th>\n",
        "      <td> 1</td>\n",
        "      <td> 1</td>\n",
        "      <td> 1</td>\n",
        "      <td> 1</td>\n",
        "      <td> 1</td>\n",
        "    </tr>\n",
        "    <tr>\n",
        "      <th>#..</th>\n",
        "      <td> 1</td>\n",
        "      <td> 1</td>\n",
        "      <td> 1</td>\n",
        "      <td> 1</td>\n",
        "      <td> 1</td>\n",
        "    </tr>\n",
        "  </tbody>\n",
        "</table>\n",
        "</div>"
       ],
       "metadata": {},
       "output_type": "pyout",
       "prompt_number": 7,
       "text": [
        "           0  1  2  3  pos_con\n",
        "pos_con                       \n",
        "##NNS      1  1  1  1        1\n",
        "#$NN       1  1  1  1        1\n",
        "#,CC       1  1  1  1        1\n",
        "#-NONE-CC  1  1  1  1        1\n",
        "#..        1  1  1  1        1"
       ]
      }
     ],
     "prompt_number": 7
    },
    {
     "cell_type": "code",
     "collapsed": false,
     "input": [
      "trigram_unique_full = trigram_unique_count['pos_con']"
     ],
     "language": "python",
     "metadata": {},
     "outputs": [],
     "prompt_number": 8
    },
    {
     "cell_type": "code",
     "collapsed": false,
     "input": [
      "df.index = df.pos_con"
     ],
     "language": "python",
     "metadata": {},
     "outputs": [],
     "prompt_number": 17
    },
    {
     "cell_type": "code",
     "collapsed": false,
     "input": [
      "df.head()"
     ],
     "language": "python",
     "metadata": {},
     "outputs": [
      {
       "html": [
        "<div style=\"max-height:1000px;max-width:1500px;overflow:auto;\">\n",
        "<table border=\"1\" class=\"dataframe\">\n",
        "  <thead>\n",
        "    <tr style=\"text-align: right;\">\n",
        "      <th></th>\n",
        "      <th>0</th>\n",
        "      <th>1</th>\n",
        "      <th>2</th>\n",
        "      <th>3</th>\n",
        "      <th>pos_con</th>\n",
        "    </tr>\n",
        "    <tr>\n",
        "      <th>pos_con</th>\n",
        "      <th></th>\n",
        "      <th></th>\n",
        "      <th></th>\n",
        "      <th></th>\n",
        "      <th></th>\n",
        "    </tr>\n",
        "  </thead>\n",
        "  <tbody>\n",
        "    <tr>\n",
        "      <th>DTNNPNNP</th>\n",
        "      <td> 1</td>\n",
        "      <td>  DT</td>\n",
        "      <td> NNP</td>\n",
        "      <td> NNP</td>\n",
        "      <td> DTNNPNNP</td>\n",
        "    </tr>\n",
        "    <tr>\n",
        "      <th>NNPNNPIN</th>\n",
        "      <td> 1</td>\n",
        "      <td> NNP</td>\n",
        "      <td> NNP</td>\n",
        "      <td>  IN</td>\n",
        "      <td> NNPNNPIN</td>\n",
        "    </tr>\n",
        "    <tr>\n",
        "      <th>NNPINNNP</th>\n",
        "      <td> 1</td>\n",
        "      <td> NNP</td>\n",
        "      <td>  IN</td>\n",
        "      <td> NNP</td>\n",
        "      <td> NNPINNNP</td>\n",
        "    </tr>\n",
        "    <tr>\n",
        "      <th>INNNPNNP</th>\n",
        "      <td> 1</td>\n",
        "      <td>  IN</td>\n",
        "      <td> NNP</td>\n",
        "      <td> NNP</td>\n",
        "      <td> INNNPNNP</td>\n",
        "    </tr>\n",
        "    <tr>\n",
        "      <th>NNPNNPCC</th>\n",
        "      <td> 1</td>\n",
        "      <td> NNP</td>\n",
        "      <td> NNP</td>\n",
        "      <td>  CC</td>\n",
        "      <td> NNPNNPCC</td>\n",
        "    </tr>\n",
        "  </tbody>\n",
        "</table>\n",
        "</div>"
       ],
       "metadata": {},
       "output_type": "pyout",
       "prompt_number": 19,
       "text": [
        "          0    1    2    3   pos_con\n",
        "pos_con                             \n",
        "DTNNPNNP  1   DT  NNP  NNP  DTNNPNNP\n",
        "NNPNNPIN  1  NNP  NNP   IN  NNPNNPIN\n",
        "NNPINNNP  1  NNP   IN  NNP  NNPINNNP\n",
        "INNNPNNP  1   IN  NNP  NNP  INNNPNNP\n",
        "NNPNNPCC  1  NNP  NNP   CC  NNPNNPCC"
       ]
      }
     ],
     "prompt_number": 19
    },
    {
     "cell_type": "code",
     "collapsed": false,
     "input": [
      "df = df[['1','2','3']]\n",
      "df.head()"
     ],
     "language": "python",
     "metadata": {},
     "outputs": [
      {
       "html": [
        "<div style=\"max-height:1000px;max-width:1500px;overflow:auto;\">\n",
        "<table border=\"1\" class=\"dataframe\">\n",
        "  <thead>\n",
        "    <tr style=\"text-align: right;\">\n",
        "      <th></th>\n",
        "      <th>1</th>\n",
        "      <th>2</th>\n",
        "      <th>3</th>\n",
        "    </tr>\n",
        "    <tr>\n",
        "      <th>pos_con</th>\n",
        "      <th></th>\n",
        "      <th></th>\n",
        "      <th></th>\n",
        "    </tr>\n",
        "  </thead>\n",
        "  <tbody>\n",
        "    <tr>\n",
        "      <th>DTNNPNNP</th>\n",
        "      <td>  DT</td>\n",
        "      <td> NNP</td>\n",
        "      <td> NNP</td>\n",
        "    </tr>\n",
        "    <tr>\n",
        "      <th>NNPNNPIN</th>\n",
        "      <td> NNP</td>\n",
        "      <td> NNP</td>\n",
        "      <td>  IN</td>\n",
        "    </tr>\n",
        "    <tr>\n",
        "      <th>NNPINNNP</th>\n",
        "      <td> NNP</td>\n",
        "      <td>  IN</td>\n",
        "      <td> NNP</td>\n",
        "    </tr>\n",
        "    <tr>\n",
        "      <th>INNNPNNP</th>\n",
        "      <td>  IN</td>\n",
        "      <td> NNP</td>\n",
        "      <td> NNP</td>\n",
        "    </tr>\n",
        "    <tr>\n",
        "      <th>NNPNNPCC</th>\n",
        "      <td> NNP</td>\n",
        "      <td> NNP</td>\n",
        "      <td>  CC</td>\n",
        "    </tr>\n",
        "  </tbody>\n",
        "</table>\n",
        "</div>"
       ],
       "metadata": {},
       "output_type": "pyout",
       "prompt_number": 25,
       "text": [
        "            1    2    3\n",
        "pos_con                \n",
        "DTNNPNNP   DT  NNP  NNP\n",
        "NNPNNPIN  NNP  NNP   IN\n",
        "NNPINNNP  NNP   IN  NNP\n",
        "INNNPNNP   IN  NNP  NNP\n",
        "NNPNNPCC  NNP  NNP   CC"
       ]
      }
     ],
     "prompt_number": 25
    },
    {
     "cell_type": "code",
     "collapsed": false,
     "input": [
      "df['unique_count'] = trigram_unique_full"
     ],
     "language": "python",
     "metadata": {},
     "outputs": [],
     "prompt_number": 23
    },
    {
     "cell_type": "code",
     "collapsed": false,
     "input": [
      "statistics_df = df.drop_duplicates()"
     ],
     "language": "python",
     "metadata": {},
     "outputs": [],
     "prompt_number": 27
    },
    {
     "cell_type": "code",
     "collapsed": false,
     "input": [
      "statistics_df['unique_count'] = trigram_unique_full"
     ],
     "language": "python",
     "metadata": {},
     "outputs": [],
     "prompt_number": 31
    },
    {
     "cell_type": "code",
     "collapsed": false,
     "input": [
      "statistics_df.head()"
     ],
     "language": "python",
     "metadata": {},
     "outputs": [
      {
       "html": [
        "<div style=\"max-height:1000px;max-width:1500px;overflow:auto;\">\n",
        "<table border=\"1\" class=\"dataframe\">\n",
        "  <thead>\n",
        "    <tr style=\"text-align: right;\">\n",
        "      <th></th>\n",
        "      <th>1</th>\n",
        "      <th>2</th>\n",
        "      <th>3</th>\n",
        "      <th>unique_count</th>\n",
        "    </tr>\n",
        "    <tr>\n",
        "      <th>pos_con</th>\n",
        "      <th></th>\n",
        "      <th></th>\n",
        "      <th></th>\n",
        "      <th></th>\n",
        "    </tr>\n",
        "  </thead>\n",
        "  <tbody>\n",
        "    <tr>\n",
        "      <th>DTNNPNNP</th>\n",
        "      <td>  DT</td>\n",
        "      <td> NNP</td>\n",
        "      <td> NNP</td>\n",
        "      <td> 114325</td>\n",
        "    </tr>\n",
        "    <tr>\n",
        "      <th>NNPNNPIN</th>\n",
        "      <td> NNP</td>\n",
        "      <td> NNP</td>\n",
        "      <td>  IN</td>\n",
        "      <td>  71106</td>\n",
        "    </tr>\n",
        "    <tr>\n",
        "      <th>NNPINNNP</th>\n",
        "      <td> NNP</td>\n",
        "      <td>  IN</td>\n",
        "      <td> NNP</td>\n",
        "      <td>  77712</td>\n",
        "    </tr>\n",
        "    <tr>\n",
        "      <th>INNNPNNP</th>\n",
        "      <td>  IN</td>\n",
        "      <td> NNP</td>\n",
        "      <td> NNP</td>\n",
        "      <td> 125893</td>\n",
        "    </tr>\n",
        "    <tr>\n",
        "      <th>NNPNNPCC</th>\n",
        "      <td> NNP</td>\n",
        "      <td> NNP</td>\n",
        "      <td>  CC</td>\n",
        "      <td>  41497</td>\n",
        "    </tr>\n",
        "  </tbody>\n",
        "</table>\n",
        "</div>"
       ],
       "metadata": {},
       "output_type": "pyout",
       "prompt_number": 34,
       "text": [
        "            1    2    3  unique_count\n",
        "pos_con                              \n",
        "DTNNPNNP   DT  NNP  NNP        114325\n",
        "NNPNNPIN  NNP  NNP   IN         71106\n",
        "NNPINNNP  NNP   IN  NNP         77712\n",
        "INNNPNNP   IN  NNP  NNP        125893\n",
        "NNPNNPCC  NNP  NNP   CC         41497"
       ]
      }
     ],
     "prompt_number": 34
    },
    {
     "cell_type": "code",
     "collapsed": false,
     "input": [
      "sum_1 = df.groupby(df['1']).count()"
     ],
     "language": "python",
     "metadata": {},
     "outputs": [],
     "prompt_number": 35
    },
    {
     "cell_type": "code",
     "collapsed": false,
     "input": [
      "statistics_df['sum_instances_first_pos'] = sum_1['1']"
     ],
     "language": "python",
     "metadata": {},
     "outputs": [],
     "prompt_number": 38
    },
    {
     "cell_type": "code",
     "collapsed": false,
     "input": [
      "statistics_df = statistics_df[['1','2','3','unique_count']]\n",
      "statistics_df.head()"
     ],
     "language": "python",
     "metadata": {},
     "outputs": [
      {
       "html": [
        "<div style=\"max-height:1000px;max-width:1500px;overflow:auto;\">\n",
        "<table border=\"1\" class=\"dataframe\">\n",
        "  <thead>\n",
        "    <tr style=\"text-align: right;\">\n",
        "      <th></th>\n",
        "      <th>1</th>\n",
        "      <th>2</th>\n",
        "      <th>3</th>\n",
        "      <th>unique_count</th>\n",
        "    </tr>\n",
        "    <tr>\n",
        "      <th>pos_con</th>\n",
        "      <th></th>\n",
        "      <th></th>\n",
        "      <th></th>\n",
        "      <th></th>\n",
        "    </tr>\n",
        "  </thead>\n",
        "  <tbody>\n",
        "    <tr>\n",
        "      <th>DTNNPNNP</th>\n",
        "      <td>  DT</td>\n",
        "      <td> NNP</td>\n",
        "      <td> NNP</td>\n",
        "      <td> 114325</td>\n",
        "    </tr>\n",
        "    <tr>\n",
        "      <th>NNPNNPIN</th>\n",
        "      <td> NNP</td>\n",
        "      <td> NNP</td>\n",
        "      <td>  IN</td>\n",
        "      <td>  71106</td>\n",
        "    </tr>\n",
        "    <tr>\n",
        "      <th>NNPINNNP</th>\n",
        "      <td> NNP</td>\n",
        "      <td>  IN</td>\n",
        "      <td> NNP</td>\n",
        "      <td>  77712</td>\n",
        "    </tr>\n",
        "    <tr>\n",
        "      <th>INNNPNNP</th>\n",
        "      <td>  IN</td>\n",
        "      <td> NNP</td>\n",
        "      <td> NNP</td>\n",
        "      <td> 125893</td>\n",
        "    </tr>\n",
        "    <tr>\n",
        "      <th>NNPNNPCC</th>\n",
        "      <td> NNP</td>\n",
        "      <td> NNP</td>\n",
        "      <td>  CC</td>\n",
        "      <td>  41497</td>\n",
        "    </tr>\n",
        "  </tbody>\n",
        "</table>\n",
        "</div>"
       ],
       "metadata": {},
       "output_type": "pyout",
       "prompt_number": 43,
       "text": [
        "            1    2    3  unique_count\n",
        "pos_con                              \n",
        "DTNNPNNP   DT  NNP  NNP        114325\n",
        "NNPNNPIN  NNP  NNP   IN         71106\n",
        "NNPINNNP  NNP   IN  NNP         77712\n",
        "INNNPNNP   IN  NNP  NNP        125893\n",
        "NNPNNPCC  NNP  NNP   CC         41497"
       ]
      }
     ],
     "prompt_number": 43
    },
    {
     "cell_type": "code",
     "collapsed": false,
     "input": [
      "perc_total = sort_trigrams.astype(float) /sum(sort_trigrams)"
     ],
     "language": "python",
     "metadata": {},
     "outputs": [],
     "prompt_number": 35
    },
    {
     "cell_type": "code",
     "collapsed": false,
     "input": [
      "trigram_full_set = DataFrame(sort_trigrams, columns = ['trigram'])\n",
      "trigram_full_set['perc_total'] = perc_total"
     ],
     "language": "python",
     "metadata": {},
     "outputs": [],
     "prompt_number": 36
    },
    {
     "cell_type": "code",
     "collapsed": false,
     "input": [
      "trigram_full_set.head()"
     ],
     "language": "python",
     "metadata": {},
     "outputs": [
      {
       "html": [
        "<div style=\"max-height:1000px;max-width:1500px;overflow:auto;\">\n",
        "<table border=\"1\" class=\"dataframe\">\n",
        "  <thead>\n",
        "    <tr style=\"text-align: right;\">\n",
        "      <th></th>\n",
        "      <th>trigram</th>\n",
        "      <th>perc_total</th>\n",
        "    </tr>\n",
        "    <tr>\n",
        "      <th>pos_con</th>\n",
        "      <th></th>\n",
        "      <th></th>\n",
        "    </tr>\n",
        "  </thead>\n",
        "  <tbody>\n",
        "    <tr>\n",
        "      <th>INDTNN</th>\n",
        "      <td> 432565</td>\n",
        "      <td> 0.019302</td>\n",
        "    </tr>\n",
        "    <tr>\n",
        "      <th>DTNNIN</th>\n",
        "      <td> 320463</td>\n",
        "      <td> 0.014300</td>\n",
        "    </tr>\n",
        "    <tr>\n",
        "      <th>NNINDT</th>\n",
        "      <td> 305105</td>\n",
        "      <td> 0.013614</td>\n",
        "    </tr>\n",
        "    <tr>\n",
        "      <th>DTJJNN</th>\n",
        "      <td> 290419</td>\n",
        "      <td> 0.012959</td>\n",
        "    </tr>\n",
        "    <tr>\n",
        "      <th>NNPNNPNNP</th>\n",
        "      <td> 260652</td>\n",
        "      <td> 0.011631</td>\n",
        "    </tr>\n",
        "  </tbody>\n",
        "</table>\n",
        "</div>"
       ],
       "metadata": {},
       "output_type": "pyout",
       "prompt_number": 37,
       "text": [
        "           trigram  perc_total\n",
        "pos_con                       \n",
        "INDTNN      432565    0.019302\n",
        "DTNNIN      320463    0.014300\n",
        "NNINDT      305105    0.013614\n",
        "DTJJNN      290419    0.012959\n",
        "NNPNNPNNP   260652    0.011631"
       ]
      }
     ],
     "prompt_number": 37
    },
    {
     "cell_type": "code",
     "collapsed": false,
     "input": [
      "n = 0\n",
      "run_per = []\n",
      "for num in perc_total:\n",
      "    n = n + num\n",
      "    run_per.append(n)"
     ],
     "language": "python",
     "metadata": {},
     "outputs": [],
     "prompt_number": 38
    },
    {
     "cell_type": "code",
     "collapsed": false,
     "input": [
      "trigram_full_set['run_per'] = run_per"
     ],
     "language": "python",
     "metadata": {},
     "outputs": [],
     "prompt_number": 40
    },
    {
     "cell_type": "code",
     "collapsed": false,
     "input": [
      "trigram_full_set['rank'] = range(1, 30484)"
     ],
     "language": "python",
     "metadata": {},
     "outputs": [],
     "prompt_number": 44
    },
    {
     "cell_type": "code",
     "collapsed": false,
     "input": [
      "trigram_full_set.head()"
     ],
     "language": "python",
     "metadata": {},
     "outputs": [
      {
       "html": [
        "<div style=\"max-height:1000px;max-width:1500px;overflow:auto;\">\n",
        "<table border=\"1\" class=\"dataframe\">\n",
        "  <thead>\n",
        "    <tr style=\"text-align: right;\">\n",
        "      <th></th>\n",
        "      <th>trigram</th>\n",
        "      <th>perc_total</th>\n",
        "      <th>run_per</th>\n",
        "      <th>rank</th>\n",
        "    </tr>\n",
        "    <tr>\n",
        "      <th>pos_con</th>\n",
        "      <th></th>\n",
        "      <th></th>\n",
        "      <th></th>\n",
        "      <th></th>\n",
        "    </tr>\n",
        "  </thead>\n",
        "  <tbody>\n",
        "    <tr>\n",
        "      <th>INDTNN</th>\n",
        "      <td> 432565</td>\n",
        "      <td> 0.019302</td>\n",
        "      <td> 0.019302</td>\n",
        "      <td> 1</td>\n",
        "    </tr>\n",
        "    <tr>\n",
        "      <th>DTNNIN</th>\n",
        "      <td> 320463</td>\n",
        "      <td> 0.014300</td>\n",
        "      <td> 0.033602</td>\n",
        "      <td> 2</td>\n",
        "    </tr>\n",
        "    <tr>\n",
        "      <th>NNINDT</th>\n",
        "      <td> 305105</td>\n",
        "      <td> 0.013614</td>\n",
        "      <td> 0.047216</td>\n",
        "      <td> 3</td>\n",
        "    </tr>\n",
        "    <tr>\n",
        "      <th>DTJJNN</th>\n",
        "      <td> 290419</td>\n",
        "      <td> 0.012959</td>\n",
        "      <td> 0.060175</td>\n",
        "      <td> 4</td>\n",
        "    </tr>\n",
        "    <tr>\n",
        "      <th>NNPNNPNNP</th>\n",
        "      <td> 260652</td>\n",
        "      <td> 0.011631</td>\n",
        "      <td> 0.071806</td>\n",
        "      <td> 5</td>\n",
        "    </tr>\n",
        "  </tbody>\n",
        "</table>\n",
        "</div>"
       ],
       "metadata": {},
       "output_type": "pyout",
       "prompt_number": 45,
       "text": [
        "           trigram  perc_total   run_per  rank\n",
        "pos_con                                       \n",
        "INDTNN      432565    0.019302  0.019302     1\n",
        "DTNNIN      320463    0.014300  0.033602     2\n",
        "NNINDT      305105    0.013614  0.047216     3\n",
        "DTJJNN      290419    0.012959  0.060175     4\n",
        "NNPNNPNNP   260652    0.011631  0.071806     5"
       ]
      }
     ],
     "prompt_number": 45
    },
    {
     "cell_type": "code",
     "collapsed": false,
     "input": [
      "trigram_full_set[trigram_full_set['rank'] == 100]"
     ],
     "language": "python",
     "metadata": {},
     "outputs": [
      {
       "html": [
        "<div style=\"max-height:1000px;max-width:1500px;overflow:auto;\">\n",
        "<table border=\"1\" class=\"dataframe\">\n",
        "  <thead>\n",
        "    <tr style=\"text-align: right;\">\n",
        "      <th></th>\n",
        "      <th>trigram</th>\n",
        "      <th>perc_total</th>\n",
        "      <th>run_per</th>\n",
        "      <th>rank</th>\n",
        "    </tr>\n",
        "    <tr>\n",
        "      <th>pos_con</th>\n",
        "      <th></th>\n",
        "      <th></th>\n",
        "      <th></th>\n",
        "      <th></th>\n",
        "    </tr>\n",
        "  </thead>\n",
        "  <tbody>\n",
        "    <tr>\n",
        "      <th>NNVBDIN</th>\n",
        "      <td> 32807</td>\n",
        "      <td> 0.001464</td>\n",
        "      <td> 0.331857</td>\n",
        "      <td> 100</td>\n",
        "    </tr>\n",
        "  </tbody>\n",
        "</table>\n",
        "</div>"
       ],
       "metadata": {},
       "output_type": "pyout",
       "prompt_number": 51,
       "text": [
        "         trigram  perc_total   run_per  rank\n",
        "pos_con                                     \n",
        "NNVBDIN    32807    0.001464  0.331857   100"
       ]
      }
     ],
     "prompt_number": 51
    },
    {
     "cell_type": "code",
     "collapsed": false,
     "input": [
      "trigram_full_set.to_csv(working_dir + '\\\\tg_1m_unique_analysis.csv')"
     ],
     "language": "python",
     "metadata": {},
     "outputs": [],
     "prompt_number": 53
    },
    {
     "cell_type": "markdown",
     "metadata": {},
     "source": [
      "The above code has not been cleaned up for production use. However, bits an pieces of this code are being re-used to create several variations of this analysis. The analysis looked at likelyhood of any trigram appearing in a random sentence. The following code will give the ability of a trigram appearing, given that it start with a particular pos."
     ]
    },
    {
     "cell_type": "code",
     "collapsed": false,
     "input": [
      "df['23'] = df['2'] + df['3']"
     ],
     "language": "python",
     "metadata": {},
     "outputs": [],
     "prompt_number": 59
    },
    {
     "cell_type": "code",
     "collapsed": false,
     "input": [
      "df.head()"
     ],
     "language": "python",
     "metadata": {},
     "outputs": [
      {
       "html": [
        "<div style=\"max-height:1000px;max-width:1500px;overflow:auto;\">\n",
        "<table border=\"1\" class=\"dataframe\">\n",
        "  <thead>\n",
        "    <tr style=\"text-align: right;\">\n",
        "      <th></th>\n",
        "      <th>0</th>\n",
        "      <th>1</th>\n",
        "      <th>2</th>\n",
        "      <th>3</th>\n",
        "      <th>pos_con</th>\n",
        "      <th>23</th>\n",
        "    </tr>\n",
        "  </thead>\n",
        "  <tbody>\n",
        "    <tr>\n",
        "      <th>0</th>\n",
        "      <td> 1</td>\n",
        "      <td>  DT</td>\n",
        "      <td> NNP</td>\n",
        "      <td> NNP</td>\n",
        "      <td> DTNNPNNP</td>\n",
        "      <td> NNPNNP</td>\n",
        "    </tr>\n",
        "    <tr>\n",
        "      <th>1</th>\n",
        "      <td> 1</td>\n",
        "      <td> NNP</td>\n",
        "      <td> NNP</td>\n",
        "      <td>  IN</td>\n",
        "      <td> NNPNNPIN</td>\n",
        "      <td>  NNPIN</td>\n",
        "    </tr>\n",
        "    <tr>\n",
        "      <th>2</th>\n",
        "      <td> 1</td>\n",
        "      <td> NNP</td>\n",
        "      <td>  IN</td>\n",
        "      <td> NNP</td>\n",
        "      <td> NNPINNNP</td>\n",
        "      <td>  INNNP</td>\n",
        "    </tr>\n",
        "    <tr>\n",
        "      <th>3</th>\n",
        "      <td> 1</td>\n",
        "      <td>  IN</td>\n",
        "      <td> NNP</td>\n",
        "      <td> NNP</td>\n",
        "      <td> INNNPNNP</td>\n",
        "      <td> NNPNNP</td>\n",
        "    </tr>\n",
        "    <tr>\n",
        "      <th>4</th>\n",
        "      <td> 1</td>\n",
        "      <td> NNP</td>\n",
        "      <td> NNP</td>\n",
        "      <td>  CC</td>\n",
        "      <td> NNPNNPCC</td>\n",
        "      <td>  NNPCC</td>\n",
        "    </tr>\n",
        "  </tbody>\n",
        "</table>\n",
        "</div>"
       ],
       "metadata": {},
       "output_type": "pyout",
       "prompt_number": 60,
       "text": [
        "   0    1    2    3   pos_con      23\n",
        "0  1   DT  NNP  NNP  DTNNPNNP  NNPNNP\n",
        "1  1  NNP  NNP   IN  NNPNNPIN   NNPIN\n",
        "2  1  NNP   IN  NNP  NNPINNNP   INNNP\n",
        "3  1   IN  NNP  NNP  INNNPNNP  NNPNNP\n",
        "4  1  NNP  NNP   CC  NNPNNPCC   NNPCC"
       ]
      }
     ],
     "prompt_number": 60
    },
    {
     "cell_type": "code",
     "collapsed": false,
     "input": [],
     "language": "python",
     "metadata": {},
     "outputs": []
    }
   ],
   "metadata": {}
  }
 ]
}