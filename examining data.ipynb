{
 "metadata": {
  "name": ""
 },
 "nbformat": 3,
 "nbformat_minor": 0,
 "worksheets": [
  {
   "cells": [
    {
     "cell_type": "code",
     "collapsed": false,
     "input": [
      "import nltk\n",
      "import pandas as pd\n",
      "from pandas import DataFrame, Series\n",
      "import numpy as np"
     ],
     "language": "python",
     "metadata": {},
     "outputs": [],
     "prompt_number": 2
    },
    {
     "cell_type": "code",
     "collapsed": false,
     "input": [
      "lines = 'first_1000_lines.txt'\n",
      "s = []\n",
      "with open(lines, 'r') as f:\n",
      "    for line in f:\n",
      "        s.append(line)"
     ],
     "language": "python",
     "metadata": {},
     "outputs": [],
     "prompt_number": 10
    },
    {
     "cell_type": "code",
     "collapsed": false,
     "input": [
      "s[0]"
     ],
     "language": "python",
     "metadata": {},
     "outputs": [
      {
       "metadata": {},
       "output_type": "pyout",
       "prompt_number": 11,
       "text": [
        "'The U.S. Centers for Disease Control and Prevention initially advised school systems to close if outbreaks occurred , then reversed itself , saying the apparent mildness of the virus meant most schools and day care centers should stay open , even if they had confirmed cases of swine flu .\\n'"
       ]
      }
     ],
     "prompt_number": 11
    },
    {
     "cell_type": "code",
     "collapsed": false,
     "input": [
      "test = 'test_v2.txt'\n",
      "t = []\n",
      "with open(test, 'r') as f:\n",
      "    for line in f:\n",
      "        t.append(line)"
     ],
     "language": "python",
     "metadata": {},
     "outputs": [],
     "prompt_number": 12
    },
    {
     "cell_type": "code",
     "collapsed": false,
     "input": [
      "t[22]"
     ],
     "language": "python",
     "metadata": {},
     "outputs": [
      {
       "metadata": {},
       "output_type": "pyout",
       "prompt_number": 38,
       "text": [
        "'22,\"\"\" Grace is Gone \"\" also was important the actor due to his work as producer , which is often a title given to actors to lure them to roles when they do not work beyond acting .\"\\n'"
       ]
      }
     ],
     "prompt_number": 38
    },
    {
     "cell_type": "code",
     "collapsed": false,
     "input": [
      "sent = nltk.word_tokenize('Grace is Gone also was important the actor due to his work as producer , which is often a title given to actors to lure them to roles when they do not work beyond acting .')\n",
      "nltk.pos_tag(sent)"
     ],
     "language": "python",
     "metadata": {},
     "outputs": [
      {
       "metadata": {},
       "output_type": "pyout",
       "prompt_number": 49,
       "text": [
        "[('Grace', 'NN'),\n",
        " ('is', 'VBZ'),\n",
        " ('Gone', 'NNP'),\n",
        " ('also', 'RB'),\n",
        " ('was', 'VBD'),\n",
        " ('important', 'JJ'),\n",
        " ('the', 'DT'),\n",
        " ('actor', 'NN'),\n",
        " ('due', 'JJ'),\n",
        " ('to', 'TO'),\n",
        " ('his', 'PRP$'),\n",
        " ('work', 'NN'),\n",
        " ('as', 'IN'),\n",
        " ('producer', 'NN'),\n",
        " (',', ','),\n",
        " ('which', 'WDT'),\n",
        " ('is', 'VBZ'),\n",
        " ('often', 'RB'),\n",
        " ('a', 'DT'),\n",
        " ('title', 'NN'),\n",
        " ('given', 'VBN'),\n",
        " ('to', 'TO'),\n",
        " ('actors', 'NNS'),\n",
        " ('to', 'TO'),\n",
        " ('lure', 'VB'),\n",
        " ('them', 'PRP'),\n",
        " ('to', 'TO'),\n",
        " ('roles', 'NNS'),\n",
        " ('when', 'WRB'),\n",
        " ('they', 'PRP'),\n",
        " ('do', 'VBP'),\n",
        " ('not', 'RB'),\n",
        " ('work', 'VB'),\n",
        " ('beyond', 'IN'),\n",
        " ('acting', 'JJ'),\n",
        " ('.', '.')]"
       ]
      }
     ],
     "prompt_number": 49
    },
    {
     "cell_type": "code",
     "collapsed": false,
     "input": [],
     "language": "python",
     "metadata": {},
     "outputs": [],
     "prompt_number": 17
    },
    {
     "cell_type": "code",
     "collapsed": false,
     "input": [],
     "language": "python",
     "metadata": {},
     "outputs": []
    }
   ],
   "metadata": {}
  }
 ]
}